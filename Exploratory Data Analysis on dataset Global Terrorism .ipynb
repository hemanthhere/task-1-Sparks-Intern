{
 "cells": [
  {
   "cell_type": "markdown",
   "id": "9380656a",
   "metadata": {},
   "source": [
    "# Exploratory Data Analysis - Global Terrorism\n",
    "\n"
   ]
  },
  {
   "cell_type": "markdown",
   "id": "670c58ed",
   "metadata": {},
   "source": [
    "#### By Venkata Hemanth Tammareddy"
   ]
  },
  {
   "cell_type": "code",
   "execution_count": null,
   "id": "aba226a4",
   "metadata": {},
   "outputs": [],
   "source": [
    "import numpy as np\n",
    "import pandas as pd\n",
    "import matplotlib.pyplot as plt\n",
    "import seaborn as sns\n",
    "%matplotlib inline"
   ]
  },
  {
   "cell_type": "code",
   "execution_count": null,
   "id": "847fe1cb",
   "metadata": {},
   "outputs": [],
   "source": [
    "data = pd.read_csv('C:/Users/HEMANTH/Desktop/Analytics projects/Global Terrorism.csv')\n",
    "data.head()"
   ]
  },
  {
   "cell_type": "code",
   "execution_count": null,
   "id": "abb9354d",
   "metadata": {},
   "outputs": [],
   "source": [
    "data.shape"
   ]
  },
  {
   "cell_type": "code",
   "execution_count": null,
   "id": "134cbb42",
   "metadata": {},
   "outputs": [],
   "source": [
    "data.isnull().any()"
   ]
  },
  {
   "cell_type": "code",
   "execution_count": null,
   "id": "5c06d65d",
   "metadata": {},
   "outputs": [],
   "source": [
    "data.nunique()"
   ]
  },
  {
   "cell_type": "code",
   "execution_count": null,
   "id": "93458b6f",
   "metadata": {},
   "outputs": [],
   "source": [
    "pd.set_option('display.max_columns', 135)\n",
    "data.head()"
   ]
  },
  {
   "cell_type": "markdown",
   "id": "dd3e6aa2",
   "metadata": {},
   "source": [
    "## Cleaning the Data"
   ]
  },
  {
   "cell_type": "code",
   "execution_count": null,
   "id": "7ac99bb4",
   "metadata": {},
   "outputs": [],
   "source": [
    "data.columns.values"
   ]
  },
  {
   "cell_type": "markdown",
   "id": "d0ec7438",
   "metadata": {},
   "source": [
    "## Renaming important column values\n"
   ]
  },
  {
   "cell_type": "code",
   "execution_count": null,
   "id": "5dd3e2c4",
   "metadata": {},
   "outputs": [],
   "source": [
    "data.rename(columns={'iyear':'Year','imonth':'Month','iday':\"day\",'gname':'Group','country_txt':'Country','region_txt':'Region',\n",
    "                     'provstate':'State','city':'City','latitude':'latitude','longitude':'longitude','summary':'summary',\n",
    "                     'attacktype1_txt':'Attacktype','targtype1_txt':'Targettype','weaptype1_txt':'Weapon','nkill':'kill',\n",
    "                     'nwound':'Wound'},inplace=True)"
   ]
  },
  {
   "cell_type": "code",
   "execution_count": null,
   "id": "aa9f1c2c",
   "metadata": {},
   "outputs": [],
   "source": [
    "data = data[['Year','Month','day','Country','State','Region','City','latitude','longitude',\"Attacktype\",'kill',\n",
    "               'Wound','target1','summary','Group','Targettype','Weapon','motive']]\n",
    "data.head()"
   ]
  },
  {
   "cell_type": "code",
   "execution_count": null,
   "id": "f3ffb82c",
   "metadata": {},
   "outputs": [],
   "source": [
    "data.info()"
   ]
  },
  {
   "cell_type": "code",
   "execution_count": null,
   "id": "6e26e93f",
   "metadata": {},
   "outputs": [],
   "source": [
    "data.describe()"
   ]
  },
  {
   "cell_type": "markdown",
   "id": "a441b8d6",
   "metadata": {},
   "source": [
    "## Data Visualization"
   ]
  },
  {
   "cell_type": "markdown",
   "id": "af87acf5",
   "metadata": {},
   "source": [
    "## Correlation between the features"
   ]
  },
  {
   "cell_type": "code",
   "execution_count": null,
   "id": "37ebe102",
   "metadata": {},
   "outputs": [],
   "source": [
    "data.corr()"
   ]
  },
  {
   "cell_type": "code",
   "execution_count": null,
   "id": "720b92be",
   "metadata": {},
   "outputs": [],
   "source": [
    "plt.figure(figsize=(15,10))\n",
    "sns.heatmap(data.corr(), annot= True)\n",
    "plt.show()"
   ]
  },
  {
   "cell_type": "code",
   "execution_count": null,
   "id": "539088a3",
   "metadata": {},
   "outputs": [],
   "source": [
    "data.isnull().sum()"
   ]
  },
  {
   "cell_type": "markdown",
   "id": "092f6719",
   "metadata": {},
   "source": [
    "## General Analysis\n"
   ]
  },
  {
   "cell_type": "code",
   "execution_count": null,
   "id": "a0df86fb",
   "metadata": {},
   "outputs": [],
   "source": [
    "print(\"Country with most attacks: \",data[\"Country\"].value_counts().idxmax())\n",
    "print(\"City with most attacks: \",data[\"City\"].value_counts().index[1])\n",
    "print(\"Region with most attacks: \",data[\"Region\"].value_counts().idxmax())\n",
    "print(\"Year with most attacks: \",data[\"Year\"].value_counts().idxmax())\n",
    "print(\"Month with most attacks: \",data[\"Month\"].value_counts().idxmax())\n",
    "print(\"Group with most attacks: \",data[\"Group\"].value_counts().index[1])\n",
    "print(\"Most Attack Types: \",data[\"Attacktype\"].value_counts().idxmax())"
   ]
  },
  {
   "cell_type": "markdown",
   "id": "165c8b6c",
   "metadata": {},
   "source": [
    "## Exploratory Data Analysis"
   ]
  },
  {
   "cell_type": "markdown",
   "id": "56c6c5d9",
   "metadata": {},
   "source": [
    "## 1. Year Vs Attacks"
   ]
  },
  {
   "cell_type": "code",
   "execution_count": null,
   "id": "e18873f7",
   "metadata": {},
   "outputs": [],
   "source": [
    "year = data['Year'].unique()\n",
    "years_count = data['Year'].value_counts(dropna = False).sort_index()\n",
    "plt.figure(figsize = (15,10))\n",
    "sns.barplot(x = year, y = years_count)\n",
    "plt.xticks(rotation = 90)\n",
    "plt.xlabel('Attacking Year')\n",
    "plt.ylabel('Number of Attacks Each Year')\n",
    "plt.title('Attacks In Years')\n",
    "plt.show()"
   ]
  },
  {
   "cell_type": "markdown",
   "id": "f9e0d447",
   "metadata": {},
   "source": [
    "## 2. Top Affected Countries"
   ]
  },
  {
   "cell_type": "code",
   "execution_count": null,
   "id": "50a15c68",
   "metadata": {},
   "outputs": [],
   "source": [
    "plt.subplots(figsize=(20,10))\n",
    "sns.barplot(data['Country'].value_counts()[:10].index,data['Country'].value_counts()[:10].values)\n",
    "plt.title('Top Countries Affected')\n",
    "plt.xlabel('Countries')\n",
    "plt.ylabel('Count')\n",
    "plt.xticks(rotation = 90)\n",
    "plt.show()"
   ]
  },
  {
   "cell_type": "markdown",
   "id": "80d95412",
   "metadata": {},
   "source": [
    "## 3. Top affected Cities\n"
   ]
  },
  {
   "cell_type": "code",
   "execution_count": null,
   "id": "a6f980f7",
   "metadata": {},
   "outputs": [],
   "source": [
    "plt.subplots(figsize=(20,10))\n",
    "sns.barplot(data['City'].value_counts()[:10].index,data['City'].value_counts()[:10].values,palette='YlOrBr_r')\n",
    "plt.title('Top Cities Affected')\n",
    "plt.xlabel('City')\n",
    "plt.ylabel('Count')\n",
    "plt.xticks(rotation = 90)\n",
    "plt.show()"
   ]
  },
  {
   "cell_type": "markdown",
   "id": "22bbf519",
   "metadata": {},
   "source": [
    "## 4. Activity each year"
   ]
  },
  {
   "cell_type": "code",
   "execution_count": null,
   "id": "8beafd13",
   "metadata": {},
   "outputs": [],
   "source": [
    "pd.crosstab(data.Year, data.Region).plot(kind='area',stacked=False,figsize=(20,10))\n",
    "plt.title('Terrorist Activities By Region In Each Year',fontsize=25)\n",
    "plt.ylabel('Number of Attacks',fontsize=20)\n",
    "plt.xlabel(\"Year\",fontsize=20)\n",
    "plt.show()"
   ]
  },
  {
   "cell_type": "markdown",
   "id": "dbedcd98",
   "metadata": {},
   "source": [
    "## 5. Attack Types\n"
   ]
  },
  {
   "cell_type": "code",
   "execution_count": null,
   "id": "6b907312",
   "metadata": {},
   "outputs": [],
   "source": [
    "# Pie Plot of AttackTypes\n",
    "plt.figure(figsize=(15,15))\n",
    "data['Attacktype'].value_counts().plot.pie(autopct=\"%1.1f%%\")\n",
    "plt.show()"
   ]
  },
  {
   "cell_type": "markdown",
   "id": "5c855267",
   "metadata": {},
   "source": [
    "## 6. Target Types\n"
   ]
  },
  {
   "cell_type": "code",
   "execution_count": null,
   "id": "1b91fd26",
   "metadata": {},
   "outputs": [],
   "source": [
    "# Pie Plot of TargetTypes\n",
    "plt.figure(figsize=(20,20))\n",
    "data['Targettype'].value_counts().plot.pie(autopct=\"%1.1f%%\")\n",
    "plt.show()"
   ]
  },
  {
   "cell_type": "markdown",
   "id": "acd41713",
   "metadata": {},
   "source": [
    "## 7. Weapon Types\n"
   ]
  },
  {
   "cell_type": "code",
   "execution_count": null,
   "id": "de42c851",
   "metadata": {},
   "outputs": [],
   "source": [
    "# Pie Plot of WeaponTypes\n",
    "plt.figure(figsize=(20,20))\n",
    "data['Weapon'].value_counts().plot.pie(autopct=\"%1.1f%%\")\n",
    "plt.show()"
   ]
  },
  {
   "cell_type": "code",
   "execution_count": null,
   "id": "0b123df8",
   "metadata": {},
   "outputs": [],
   "source": [
    "df = data[['Year','kill']].groupby(['Year']).sum()\n",
    "df.head()"
   ]
  },
  {
   "cell_type": "markdown",
   "id": "a01cb663",
   "metadata": {},
   "source": [
    "## 8. Deaths in Years\n"
   ]
  },
  {
   "cell_type": "code",
   "execution_count": null,
   "id": "df015910",
   "metadata": {},
   "outputs": [],
   "source": [
    "# Killed vs Year\n",
    "plt.figure(figsize = (15,7))\n",
    "data.groupby(['Year'])['kill'].sum().sort_values(ascending = False).head(20).plot(kind = 'bar', colormap = 'PRGn')\n",
    "plt.xticks(rotation=90)\n",
    "plt.title('No. of people killed Year wise')\n",
    "plt.ylabel(\"Killed\")\n",
    "plt.show()"
   ]
  },
  {
   "cell_type": "markdown",
   "id": "fd7aa3ea",
   "metadata": {},
   "source": [
    "## 9. Injured vs Year"
   ]
  },
  {
   "cell_type": "code",
   "execution_count": null,
   "id": "641f901a",
   "metadata": {},
   "outputs": [],
   "source": [
    "plt.figure(figsize = (15,7))\n",
    "data.groupby(['Year'])['Wound'].sum().sort_values(ascending = False).head(20).plot(kind = 'bar', colormap = 'seismic')\n",
    "plt.xticks(rotation=90)\n",
    "plt.title('No. of people Injured/yr')\n",
    "plt.ylabel(\"Injured\")\n",
    "plt.show()"
   ]
  },
  {
   "cell_type": "markdown",
   "id": "59e4e1cf",
   "metadata": {},
   "source": [
    "## 10. Killed vs Country"
   ]
  },
  {
   "cell_type": "code",
   "execution_count": null,
   "id": "794ef60f",
   "metadata": {},
   "outputs": [],
   "source": [
    "plt.figure(figsize = (15,7))\n",
    "data.groupby(['Country'])['kill'].sum().sort_values(ascending = False).head(10).plot(kind = 'bar', colormap = 'PRGn')\n",
    "plt.xticks(rotation=90)\n",
    "plt.title('No. of people killed Country wise')\n",
    "plt.ylabel(\"Killed\")\n",
    "plt.show()"
   ]
  },
  {
   "cell_type": "markdown",
   "id": "a3db8ec2",
   "metadata": {},
   "source": [
    "## 11. Killed vs Region"
   ]
  },
  {
   "cell_type": "code",
   "execution_count": null,
   "id": "3a7f40d1",
   "metadata": {},
   "outputs": [],
   "source": [
    "plt.figure(figsize = (15,7))\n",
    "data.groupby(['Region'])['kill'].sum().sort_values(ascending = False).head(10).plot(kind = 'bar', colormap = 'seismic')\n",
    "plt.xticks(rotation=90)\n",
    "plt.title('No. of people killed Region wise')\n",
    "plt.ylabel(\"Killed\")\n",
    "plt.show()"
   ]
  },
  {
   "cell_type": "markdown",
   "id": "9445622f",
   "metadata": {},
   "source": [
    "## 12. Wounded vs Region"
   ]
  },
  {
   "cell_type": "code",
   "execution_count": null,
   "id": "6d18185b",
   "metadata": {},
   "outputs": [],
   "source": [
    "plt.figure(figsize = (15,7))\n",
    "data.groupby(['Region'])['Wound'].sum().sort_values(ascending = False).head(10).plot(kind = 'bar', colormap = 'PRGn')\n",
    "plt.xticks(rotation=90)\n",
    "plt.title('No. of people wounded Region wise')\n",
    "plt.ylabel(\"Wounded\")\n",
    "plt.show()"
   ]
  },
  {
   "cell_type": "markdown",
   "id": "9e0cb616",
   "metadata": {},
   "source": [
    "## 13. Attacks VS Killed"
   ]
  },
  {
   "cell_type": "code",
   "execution_count": null,
   "id": "6124be5a",
   "metadata": {},
   "outputs": [],
   "source": [
    "count_terror = data['Country'].value_counts()[:15].to_frame()\n",
    "count_terror.columns=['Attacks']\n",
    "count_kill=data.groupby ('Country')['kill'].sum().to_frame()\n",
    "count_terror.merge(count_kill,left_index = True,right_index =True,how='left').plot.bar(width=0.9)\n",
    "fig=plt.gcf()\n",
    "plt.title(\"Attacks VS Killed\", fontsize=20)\n",
    "fig.set_size_inches(16,4)\n",
    "plt.show()"
   ]
  },
  {
   "cell_type": "code",
   "execution_count": null,
   "id": "6fa6eedd",
   "metadata": {},
   "outputs": [],
   "source": [
    "df=data[['Group','Country','kill']]\n",
    "df=df.groupby(['Group','Country'],axis=0).sum().sort_values('kill',ascending=False).drop('Unknown').reset_index().head(10)\n",
    "df"
   ]
  },
  {
   "cell_type": "markdown",
   "id": "00f2d8ef",
   "metadata": {},
   "source": [
    "## Terror Groups"
   ]
  },
  {
   "cell_type": "code",
   "execution_count": null,
   "id": "6d6095aa",
   "metadata": {},
   "outputs": [],
   "source": [
    "plt.figure(figsize = (15,7))\n",
    "sns.barplot(x = data['Group'].value_counts()[1:11].values, y = data['Group'].value_counts()[1:11].index,palette='magma')\n",
    "plt.title('Top 10 Terrorist Organisation with Highest Terror Attacks')\n",
    "plt.ylabel('Terror Group Name')\n",
    "plt.xlabel('Number of Attacks')\n",
    "plt.xticks(rotation= 90)\n",
    "plt.show()"
   ]
  },
  {
   "cell_type": "markdown",
   "id": "cecc3ae8",
   "metadata": {},
   "source": [
    "## Data Analysis on Customised data\n"
   ]
  },
  {
   "cell_type": "markdown",
   "id": "f7559751",
   "metadata": {},
   "source": [
    "### Terrorist attack of a particular year\n"
   ]
  },
  {
   "cell_type": "code",
   "execution_count": null,
   "id": "56bfd7a5",
   "metadata": {},
   "outputs": [],
   "source": [
    "!pip install folium\n",
    "import folium\n",
    "\n",
    "from folium.plugins import MarkerCluster"
   ]
  },
  {
   "cell_type": "code",
   "execution_count": null,
   "id": "d8e00310",
   "metadata": {},
   "outputs": [],
   "source": [
    "filterYr = data[\"Year\"] == 2015"
   ]
  },
  {
   "cell_type": "code",
   "execution_count": null,
   "id": "d410e174",
   "metadata": {},
   "outputs": [],
   "source": [
    "filterData = data[filterYr]\n",
    "reqFields = filterData.loc[:,\"City\":\"longitude\"]\n",
    "reqFields = reqFields.dropna()\n",
    "reqFieldsLst = reqFields.values.tolist()"
   ]
  },
  {
   "cell_type": "code",
   "execution_count": null,
   "id": "268f5d08",
   "metadata": {},
   "outputs": [],
   "source": [
    "map = folium.Map(location=[0,30],tiles=\"CartoDB positron\", zoom_start=2)\n",
    "\n",
    "markerCluster = folium.plugins.MarkerCluster().add_to(map)\n",
    " \n",
    "for point in range(len(reqFieldsLst)):\n",
    "    folium.Marker(location=[reqFieldsLst[point][1],reqFieldsLst[point][2]],\n",
    "                            popup=reqFieldsLst[point][0]).add_to(markerCluster)\n",
    "    \n",
    "map"
   ]
  },
  {
   "cell_type": "markdown",
   "id": "5ff51b75",
   "metadata": {},
   "source": [
    "## Conclusion and Results :\n"
   ]
  },
  {
   "cell_type": "markdown",
   "id": "4184b845",
   "metadata": {},
   "source": [
    "#### Country with the most attacks: Iraq\n",
    "\n",
    "#### City with the most attacks: Baghdad\n",
    "\n",
    "#### Region with the most attacks:Middle East & North Africa\n",
    "\n",
    "#### Year with the most attacks: 2014\n",
    "\n",
    "#### Month with the most attacks: 5\n",
    "\n",
    "#### Group with the most attacks: Taliban\n",
    "\n",
    "#### Most Attack Types: Bombing/Explosion"
   ]
  }
 ],
 "metadata": {
  "kernelspec": {
   "display_name": "Python 3",
   "language": "python",
   "name": "python3"
  },
  "language_info": {
   "codemirror_mode": {
    "name": "ipython",
    "version": 3
   },
   "file_extension": ".py",
   "mimetype": "text/x-python",
   "name": "python",
   "nbconvert_exporter": "python",
   "pygments_lexer": "ipython3",
   "version": "3.8.8"
  }
 },
 "nbformat": 4,
 "nbformat_minor": 5
}
